{
  "nbformat": 4,
  "nbformat_minor": 0,
  "metadata": {
    "colab": {
      "provenance": [],
      "toc_visible": true,
      "authorship_tag": "ABX9TyMcjlyHVlgBvDjI0Jtguv3X",
      "include_colab_link": true
    },
    "kernelspec": {
      "name": "python3",
      "display_name": "Python 3"
    },
    "language_info": {
      "name": "python"
    }
  },
  "cells": [
    {
      "cell_type": "markdown",
      "metadata": {
        "id": "view-in-github",
        "colab_type": "text"
      },
      "source": [
        "<a href=\"https://colab.research.google.com/github/Abhijith-S-D/Spotify-EDA/blob/main/Spotify_EDA.ipynb\" target=\"_parent\"><img src=\"https://colab.research.google.com/assets/colab-badge.svg\" alt=\"Open In Colab\"/></a>"
      ]
    },
    {
      "cell_type": "markdown",
      "source": [
        "# 📊 Exploratory Data Analysis (EDA) on the Spotify Dataset 🎹\n",
        "\n",
        "**Python for Data Science Mini Project**\n",
        "\n",
        "By,\n",
        "* **Abhijith S D**\n",
        "* **Arvind C R**\n",
        "* **Ayyasamy S**\n",
        "* **Gurumurthy Kalyanpur Viswanathaiah**\n",
        "* **Manjunath**"
      ],
      "metadata": {
        "id": "THU59_46ebh3"
      }
    },
    {
      "cell_type": "markdown",
      "source": [
        "## ✨ Introduction ✨\n",
        "Welcome to the Exploratory Data Analysis (EDA) of the Spotify dataset! In this notebook, we will explore various aspects of the dataset to uncover insights and understand the underlying patterns."
      ],
      "metadata": {
        "id": "gb0zCTiSS_iO"
      }
    },
    {
      "cell_type": "markdown",
      "source": [
        "## 📚 Libraries Used 🔧\n",
        "\n",
        "### 🐍 Pandas\n",
        "* **Purpose**: Data manipulation and analysis.\n",
        "* **Usage**: To handle and process data, including reading and cleaning the dataset."
      ],
      "metadata": {
        "id": "QJktf7ACT9aG"
      }
    },
    {
      "cell_type": "code",
      "source": [
        "import pandas as pd"
      ],
      "metadata": {
        "id": "i9vYYQkIUCnc"
      },
      "execution_count": 7,
      "outputs": []
    },
    {
      "cell_type": "markdown",
      "source": [
        "### 📊 Seaborn\n",
        "* **Purpose**: Statistical data visualization.\n",
        "* **Usage**: To create informative and attractive visualizations such as histograms, pair plots, and violin plots."
      ],
      "metadata": {
        "id": "k-xPOVB7Uwdz"
      }
    },
    {
      "cell_type": "code",
      "source": [
        "import seaborn as sn"
      ],
      "metadata": {
        "id": "U81PNtyKUJTv"
      },
      "execution_count": null,
      "outputs": []
    },
    {
      "cell_type": "markdown",
      "source": [
        "### 🖼️ Matplotlib\n",
        "* **Purpose**: Plotting and visualization.\n",
        "* **Usage**: For creating static, animated, and interactive visualizations, including histograms and plots with customized styles."
      ],
      "metadata": {
        "id": "vkUYQCblVAZe"
      }
    },
    {
      "cell_type": "code",
      "source": [
        "import matplotlib.pyplot as mp"
      ],
      "metadata": {
        "id": "y3Apvw8QVCw1"
      },
      "execution_count": null,
      "outputs": []
    },
    {
      "cell_type": "markdown",
      "source": [
        "### 📈 Plotly Express\n",
        "* **Purpose**: Interactive data visualization.\n",
        "* **Usage**: To create interactive plots and visualizations that allow for deeper exploration of the data."
      ],
      "metadata": {
        "id": "7zWI_hx3VHfd"
      }
    },
    {
      "cell_type": "code",
      "source": [
        "import plotly.express as px"
      ],
      "metadata": {
        "id": "H9SouC1MVIQB"
      },
      "execution_count": null,
      "outputs": []
    },
    {
      "cell_type": "markdown",
      "source": [
        "### ⚠️ Warnings\n",
        "* **Purpose**: Manage warnings.\n",
        "* **Usage**: To suppress warnings that may clutter the output."
      ],
      "metadata": {
        "id": "BD_PGK4bVKOj"
      }
    },
    {
      "cell_type": "code",
      "source": [
        "import warnings as w\n",
        "w.filterwarnings('ignore')"
      ],
      "metadata": {
        "id": "6EPOKqc-VNSg"
      },
      "execution_count": null,
      "outputs": []
    },
    {
      "cell_type": "markdown",
      "source": [
        "# 📋 Dataset Overview and Preprocessing 🔍"
      ],
      "metadata": {
        "id": "ZjlG8_-GVhnS"
      }
    },
    {
      "cell_type": "markdown",
      "source": [
        "## 📈 Data Setup linking kaggle and google colab"
      ],
      "metadata": {
        "id": "iAD6kA16ZTtc"
      }
    },
    {
      "cell_type": "markdown",
      "source": [
        "### 📰 Read the kaggle API token to interact with your kaggle account"
      ],
      "metadata": {
        "id": "I2z5NWs3bPwd"
      }
    },
    {
      "cell_type": "code",
      "source": [
        "from google.colab import files\n",
        "files.upload()"
      ],
      "metadata": {
        "colab": {
          "base_uri": "https://localhost:8080/",
          "height": 92
        },
        "id": "uwpOxUhHbU0W",
        "outputId": "dfa990f9-3cc2-46c8-c247-a9808705203e"
      },
      "execution_count": 1,
      "outputs": [
        {
          "output_type": "display_data",
          "data": {
            "text/plain": [
              "<IPython.core.display.HTML object>"
            ],
            "text/html": [
              "\n",
              "     <input type=\"file\" id=\"files-2a895f97-7932-422d-a13e-0ce107025c72\" name=\"files[]\" multiple disabled\n",
              "        style=\"border:none\" />\n",
              "     <output id=\"result-2a895f97-7932-422d-a13e-0ce107025c72\">\n",
              "      Upload widget is only available when the cell has been executed in the\n",
              "      current browser session. Please rerun this cell to enable.\n",
              "      </output>\n",
              "      <script>// Copyright 2017 Google LLC\n",
              "//\n",
              "// Licensed under the Apache License, Version 2.0 (the \"License\");\n",
              "// you may not use this file except in compliance with the License.\n",
              "// You may obtain a copy of the License at\n",
              "//\n",
              "//      http://www.apache.org/licenses/LICENSE-2.0\n",
              "//\n",
              "// Unless required by applicable law or agreed to in writing, software\n",
              "// distributed under the License is distributed on an \"AS IS\" BASIS,\n",
              "// WITHOUT WARRANTIES OR CONDITIONS OF ANY KIND, either express or implied.\n",
              "// See the License for the specific language governing permissions and\n",
              "// limitations under the License.\n",
              "\n",
              "/**\n",
              " * @fileoverview Helpers for google.colab Python module.\n",
              " */\n",
              "(function(scope) {\n",
              "function span(text, styleAttributes = {}) {\n",
              "  const element = document.createElement('span');\n",
              "  element.textContent = text;\n",
              "  for (const key of Object.keys(styleAttributes)) {\n",
              "    element.style[key] = styleAttributes[key];\n",
              "  }\n",
              "  return element;\n",
              "}\n",
              "\n",
              "// Max number of bytes which will be uploaded at a time.\n",
              "const MAX_PAYLOAD_SIZE = 100 * 1024;\n",
              "\n",
              "function _uploadFiles(inputId, outputId) {\n",
              "  const steps = uploadFilesStep(inputId, outputId);\n",
              "  const outputElement = document.getElementById(outputId);\n",
              "  // Cache steps on the outputElement to make it available for the next call\n",
              "  // to uploadFilesContinue from Python.\n",
              "  outputElement.steps = steps;\n",
              "\n",
              "  return _uploadFilesContinue(outputId);\n",
              "}\n",
              "\n",
              "// This is roughly an async generator (not supported in the browser yet),\n",
              "// where there are multiple asynchronous steps and the Python side is going\n",
              "// to poll for completion of each step.\n",
              "// This uses a Promise to block the python side on completion of each step,\n",
              "// then passes the result of the previous step as the input to the next step.\n",
              "function _uploadFilesContinue(outputId) {\n",
              "  const outputElement = document.getElementById(outputId);\n",
              "  const steps = outputElement.steps;\n",
              "\n",
              "  const next = steps.next(outputElement.lastPromiseValue);\n",
              "  return Promise.resolve(next.value.promise).then((value) => {\n",
              "    // Cache the last promise value to make it available to the next\n",
              "    // step of the generator.\n",
              "    outputElement.lastPromiseValue = value;\n",
              "    return next.value.response;\n",
              "  });\n",
              "}\n",
              "\n",
              "/**\n",
              " * Generator function which is called between each async step of the upload\n",
              " * process.\n",
              " * @param {string} inputId Element ID of the input file picker element.\n",
              " * @param {string} outputId Element ID of the output display.\n",
              " * @return {!Iterable<!Object>} Iterable of next steps.\n",
              " */\n",
              "function* uploadFilesStep(inputId, outputId) {\n",
              "  const inputElement = document.getElementById(inputId);\n",
              "  inputElement.disabled = false;\n",
              "\n",
              "  const outputElement = document.getElementById(outputId);\n",
              "  outputElement.innerHTML = '';\n",
              "\n",
              "  const pickedPromise = new Promise((resolve) => {\n",
              "    inputElement.addEventListener('change', (e) => {\n",
              "      resolve(e.target.files);\n",
              "    });\n",
              "  });\n",
              "\n",
              "  const cancel = document.createElement('button');\n",
              "  inputElement.parentElement.appendChild(cancel);\n",
              "  cancel.textContent = 'Cancel upload';\n",
              "  const cancelPromise = new Promise((resolve) => {\n",
              "    cancel.onclick = () => {\n",
              "      resolve(null);\n",
              "    };\n",
              "  });\n",
              "\n",
              "  // Wait for the user to pick the files.\n",
              "  const files = yield {\n",
              "    promise: Promise.race([pickedPromise, cancelPromise]),\n",
              "    response: {\n",
              "      action: 'starting',\n",
              "    }\n",
              "  };\n",
              "\n",
              "  cancel.remove();\n",
              "\n",
              "  // Disable the input element since further picks are not allowed.\n",
              "  inputElement.disabled = true;\n",
              "\n",
              "  if (!files) {\n",
              "    return {\n",
              "      response: {\n",
              "        action: 'complete',\n",
              "      }\n",
              "    };\n",
              "  }\n",
              "\n",
              "  for (const file of files) {\n",
              "    const li = document.createElement('li');\n",
              "    li.append(span(file.name, {fontWeight: 'bold'}));\n",
              "    li.append(span(\n",
              "        `(${file.type || 'n/a'}) - ${file.size} bytes, ` +\n",
              "        `last modified: ${\n",
              "            file.lastModifiedDate ? file.lastModifiedDate.toLocaleDateString() :\n",
              "                                    'n/a'} - `));\n",
              "    const percent = span('0% done');\n",
              "    li.appendChild(percent);\n",
              "\n",
              "    outputElement.appendChild(li);\n",
              "\n",
              "    const fileDataPromise = new Promise((resolve) => {\n",
              "      const reader = new FileReader();\n",
              "      reader.onload = (e) => {\n",
              "        resolve(e.target.result);\n",
              "      };\n",
              "      reader.readAsArrayBuffer(file);\n",
              "    });\n",
              "    // Wait for the data to be ready.\n",
              "    let fileData = yield {\n",
              "      promise: fileDataPromise,\n",
              "      response: {\n",
              "        action: 'continue',\n",
              "      }\n",
              "    };\n",
              "\n",
              "    // Use a chunked sending to avoid message size limits. See b/62115660.\n",
              "    let position = 0;\n",
              "    do {\n",
              "      const length = Math.min(fileData.byteLength - position, MAX_PAYLOAD_SIZE);\n",
              "      const chunk = new Uint8Array(fileData, position, length);\n",
              "      position += length;\n",
              "\n",
              "      const base64 = btoa(String.fromCharCode.apply(null, chunk));\n",
              "      yield {\n",
              "        response: {\n",
              "          action: 'append',\n",
              "          file: file.name,\n",
              "          data: base64,\n",
              "        },\n",
              "      };\n",
              "\n",
              "      let percentDone = fileData.byteLength === 0 ?\n",
              "          100 :\n",
              "          Math.round((position / fileData.byteLength) * 100);\n",
              "      percent.textContent = `${percentDone}% done`;\n",
              "\n",
              "    } while (position < fileData.byteLength);\n",
              "  }\n",
              "\n",
              "  // All done.\n",
              "  yield {\n",
              "    response: {\n",
              "      action: 'complete',\n",
              "    }\n",
              "  };\n",
              "}\n",
              "\n",
              "scope.google = scope.google || {};\n",
              "scope.google.colab = scope.google.colab || {};\n",
              "scope.google.colab._files = {\n",
              "  _uploadFiles,\n",
              "  _uploadFilesContinue,\n",
              "};\n",
              "})(self);\n",
              "</script> "
            ]
          },
          "metadata": {}
        },
        {
          "output_type": "stream",
          "name": "stdout",
          "text": [
            "Saving kaggle.json to kaggle.json\n"
          ]
        },
        {
          "output_type": "execute_result",
          "data": {
            "text/plain": [
              "{'kaggle.json': b'{\"username\":\"abhinomega135\",\"key\":\"5e3e1bff26d3c27d9e8bdc2cfed82f7c\"}'}"
            ]
          },
          "metadata": {},
          "execution_count": 1
        }
      ]
    },
    {
      "cell_type": "markdown",
      "source": [
        "### ⚙️ Series of commands to set-up for download"
      ],
      "metadata": {
        "id": "ehIG_yqzb4U0"
      }
    },
    {
      "cell_type": "code",
      "source": [
        "!ls -lha kaggle.json\n",
        "!pip install -q kaggle # installing the kaggle package\n",
        "!mkdir -p ~/.kaggle # creating .kaggle folder where the key should be placed\n",
        "!cp kaggle.json ~/.kaggle/ # move the key to the folder\n",
        "!pwd # checking the present working directory"
      ],
      "metadata": {
        "colab": {
          "base_uri": "https://localhost:8080/"
        },
        "id": "MedmFckCcDmb",
        "outputId": "37e4e7af-7b47-4213-8170-712f21cf3657"
      },
      "execution_count": 2,
      "outputs": [
        {
          "output_type": "stream",
          "name": "stdout",
          "text": [
            "-rw-r--r-- 1 root root 69 Aug 10 03:13 kaggle.json\n",
            "/content\n"
          ]
        }
      ]
    },
    {
      "cell_type": "markdown",
      "source": [
        "### ♿ giving rw access (if 401-nathorized)"
      ],
      "metadata": {
        "id": "eMlDWbllcUge"
      }
    },
    {
      "cell_type": "code",
      "source": [
        "!chmod 600 ~/.kaggle/kaggle.json"
      ],
      "metadata": {
        "id": "2iHT-9HpcYyP"
      },
      "execution_count": 3,
      "outputs": []
    },
    {
      "cell_type": "markdown",
      "source": [
        "### ✅ Sanity check if able to access kaggle"
      ],
      "metadata": {
        "id": "00wVPnKMciRY"
      }
    },
    {
      "cell_type": "code",
      "source": [
        "!kaggle datasets list"
      ],
      "metadata": {
        "colab": {
          "base_uri": "https://localhost:8080/"
        },
        "id": "Ohyb6TqDcjS1",
        "outputId": "4915ce3d-964c-40c9-a40b-2b4358dcec38"
      },
      "execution_count": 4,
      "outputs": [
        {
          "output_type": "stream",
          "name": "stdout",
          "text": [
            "ref                                                        title                                               size  lastUpdated          downloadCount  voteCount  usabilityRating  \n",
            "---------------------------------------------------------  -------------------------------------------------  -----  -------------------  -------------  ---------  ---------------  \n",
            "waqi786/heart-attack-dataset                               ❤️ Heart Attack Risk Factors Dataset                 9KB  2024-08-06 10:57:42           1254         29  1.0              \n",
            "youssefismail20/olympic-games-1994-2024                    Olympic Games (1994-2024) 🏅🌍                        16KB  2024-08-08 12:56:36           1198         30  1.0              \n",
            "myrios/cost-of-living-index-by-country-by-number-2024      Cost of Living Index by Country                      3KB  2024-07-19 06:25:42           2865         42  1.0              \n",
            "muhammadehsan000/credit-card-transaction-records-dataset   Credit Card Transaction Records Dataset            145MB  2024-08-01 13:34:23            725         26  1.0              \n",
            "datazng/shopping-mall-customer-data-segmentation-analysis  Shopping Mall Customer Data Segmentation Analysis    6MB  2024-08-04 20:36:31           1318         39  0.88235295       \n",
            "waqi786/cats-dataset                                       🐾 Cats Dataset                                       6KB  2024-07-31 06:12:49           2345         50  1.0              \n",
            "amansingh0000000/imdb-250-web-show                         Imdb 250 Web-show                                    2KB  2024-08-01 16:10:37            852         22  1.0              \n",
            "mbsoroush/mobile-price-range                               Mobile Price Range                                  71KB  2024-07-29 08:05:56           1290         29  1.0              \n",
            "abhayayare/employee-data-simulation-it-industry            Employee Data Simulation: IT Industry                4KB  2024-07-21 15:26:17           2422         38  1.0              \n",
            "muhammadehsan000/olympic-historical-dataset-1896-2020      Olympic Historical Dataset (1896 - 2022)            27MB  2024-08-06 16:46:08           1682         30  1.0              \n",
            "patricklford/global-ev-sales-2010-2024                     Global EV Sales: 2010-2024                          83KB  2024-07-19 13:40:22           3051         42  1.0              \n",
            "ihelon/coffee-sales                                        Coffee Sales                                        14KB  2024-08-09 09:00:13          10511        161  1.0              \n",
            "anthonytherrien/depression-dataset                         Depression Dataset                                   9MB  2024-07-19 20:42:08           1647         32  1.0              \n",
            "krupalpatel07/apple-stock-data                             Apple Stock Data                                   423KB  2024-07-16 05:58:57           1086         22  1.0              \n",
            "rabieelkharoua/students-performance-dataset                📚 Students Performance Dataset 📚                    66KB  2024-06-12 23:09:20          28780        561  1.0              \n",
            "jacopoferretti/superstore-dataset                          Superstore Dataset                                 550KB  2024-08-01 02:06:14            482         23  0.9411765        \n",
            "waqi786/mobile-sales-dataset                               Mobile Sales Dataset 📱                              58KB  2024-07-26 11:03:16           2202         37  1.0              \n",
            "nelgiriyewithana/most-streamed-spotify-songs-2024          Most Streamed Spotify Songs 2024                   496KB  2024-06-15 18:50:51          20652        396  1.0              \n",
            "waqi786/top-games-dataset                                  Top Games Dataset 🎮📊                                77KB  2024-08-02 11:27:16           1547         28  1.0              \n",
            "priyamchoksi/credit-card-transactions-dataset              Credit Card Transactions Dataset                   145MB  2024-07-23 00:31:47           1672         34  1.0              \n"
          ]
        }
      ]
    },
    {
      "cell_type": "markdown",
      "source": [
        "### ⬇️ Download data command"
      ],
      "metadata": {
        "id": "hWGPekDZdNHr"
      }
    },
    {
      "cell_type": "code",
      "source": [
        "!kaggle datasets download -d nelgiriyewithana/most-streamed-spotify-songs-2024"
      ],
      "metadata": {
        "colab": {
          "base_uri": "https://localhost:8080/"
        },
        "id": "GuTMnWQ-clzy",
        "outputId": "ecd576ae-739c-4abc-e2e1-dd3b6f404bb8"
      },
      "execution_count": 5,
      "outputs": [
        {
          "output_type": "stream",
          "name": "stdout",
          "text": [
            "Dataset URL: https://www.kaggle.com/datasets/nelgiriyewithana/most-streamed-spotify-songs-2024\n",
            "License(s): CC-BY-SA-4.0\n",
            "Downloading most-streamed-spotify-songs-2024.zip to /content\n",
            "  0% 0.00/496k [00:00<?, ?B/s]\n",
            "100% 496k/496k [00:00<00:00, 38.3MB/s]\n"
          ]
        }
      ]
    },
    {
      "cell_type": "markdown",
      "source": [
        "### 🤐 Unzip Dataset"
      ],
      "metadata": {
        "id": "efaHKvOndlWp"
      }
    },
    {
      "cell_type": "code",
      "source": [
        "! unzip most-streamed-spotify-songs-2024.zip"
      ],
      "metadata": {
        "colab": {
          "base_uri": "https://localhost:8080/"
        },
        "id": "Sxq_Sb8gdVFt",
        "outputId": "ef88b333-f5a4-4d8a-84e8-6a26ada39ea6"
      },
      "execution_count": 6,
      "outputs": [
        {
          "output_type": "stream",
          "name": "stdout",
          "text": [
            "Archive:  most-streamed-spotify-songs-2024.zip\n",
            "  inflating: Most Streamed Spotify Songs 2024.csv  \n"
          ]
        }
      ]
    },
    {
      "cell_type": "markdown",
      "source": [
        "## 🗂️ Loading the Dataset 📥\n",
        "We began by loading the Spotify dataset using `pandas`. This dataset contains information about various tracks, including metrics from different streaming platforms."
      ],
      "metadata": {
        "id": "RM6QFsq1YfBa"
      }
    },
    {
      "cell_type": "code",
      "source": [
        "df = pd.read_csv('Most Streamed Spotify Songs 2024.csv', encoding='latin1')"
      ],
      "metadata": {
        "id": "vNPJ_PNKYgmh"
      },
      "execution_count": 8,
      "outputs": []
    },
    {
      "cell_type": "markdown",
      "source": [
        "## 🏷️ Initial Data Examination 👀\n",
        "We reviewed the last few rows of the dataset to understand its structure and content. The dataset consists of 29 columns and 4599 rows with diverse types of information such as track names, artists, release dates, and various streaming metrics."
      ],
      "metadata": {
        "id": "t2w2YWB9ZHig"
      }
    },
    {
      "cell_type": "code",
      "source": [
        "pd.reset_option('display.max_columns')\n",
        "df.tail(3)"
      ],
      "metadata": {
        "id": "PbRjxl_vYq3i",
        "outputId": "84cf11ea-b2d4-4370-801f-dd96c696be5b",
        "colab": {
          "base_uri": "https://localhost:8080/",
          "height": 332
        }
      },
      "execution_count": 9,
      "outputs": [
        {
          "output_type": "execute_result",
          "data": {
            "text/plain": [
              "                                Track                       Album Name  \\\n",
              "4597            Grace (feat. 42 Dugg)                          My Turn   \n",
              "4598              Nashe Si Chadh Gayi            November Top 10 Songs   \n",
              "4599  Me Acostumbre (feat. Bad Bunny)  Me Acostumbre (feat. Bad Bunny)   \n",
              "\n",
              "            Artist Release Date          ISRC All Time Rank  Track Score  \\\n",
              "4597      Lil Baby    2/28/2020  USUG12000043         4,571         19.4   \n",
              "4598  Arijit Singh    11/8/2016  INY091600067         4,591         19.4   \n",
              "4599     Arcï¿½ï¿½    4/11/2017  USB271700107         4,593         19.4   \n",
              "\n",
              "     Spotify Streams Spotify Playlist Count Spotify Playlist Reach  ...  \\\n",
              "4597     189,972,685                 72,066              6,704,802  ...   \n",
              "4598     145,467,020                 14,037              7,387,064  ...   \n",
              "4599     255,740,653                 32,138             14,066,526  ...   \n",
              "\n",
              "      SiriusXM Spins Deezer Playlist Count Deezer Playlist Reach  \\\n",
              "4597             NaN                   1.0                    74   \n",
              "4598             NaN                   NaN                   NaN   \n",
              "4599             NaN                   4.0               127,479   \n",
              "\n",
              "     Amazon Playlist Count Pandora Streams Pandora Track Stations  \\\n",
              "4597                   6.0      84,426,740                 28,999   \n",
              "4598                   7.0       6,817,840                    NaN   \n",
              "4599                   4.0      69,006,739                 11,320   \n",
              "\n",
              "     Soundcloud Streams  Shazam Counts TIDAL Popularity Explicit Track  \n",
              "4597                NaN      1,135,998              NaN              1  \n",
              "4598                NaN        448,292              NaN              0  \n",
              "4599                NaN        767,006              NaN              1  \n",
              "\n",
              "[3 rows x 29 columns]"
            ],
            "text/html": [
              "\n",
              "  <div id=\"df-9d3252db-d4ed-4fe8-aec8-3ef824d3bfb5\" class=\"colab-df-container\">\n",
              "    <div>\n",
              "<style scoped>\n",
              "    .dataframe tbody tr th:only-of-type {\n",
              "        vertical-align: middle;\n",
              "    }\n",
              "\n",
              "    .dataframe tbody tr th {\n",
              "        vertical-align: top;\n",
              "    }\n",
              "\n",
              "    .dataframe thead th {\n",
              "        text-align: right;\n",
              "    }\n",
              "</style>\n",
              "<table border=\"1\" class=\"dataframe\">\n",
              "  <thead>\n",
              "    <tr style=\"text-align: right;\">\n",
              "      <th></th>\n",
              "      <th>Track</th>\n",
              "      <th>Album Name</th>\n",
              "      <th>Artist</th>\n",
              "      <th>Release Date</th>\n",
              "      <th>ISRC</th>\n",
              "      <th>All Time Rank</th>\n",
              "      <th>Track Score</th>\n",
              "      <th>Spotify Streams</th>\n",
              "      <th>Spotify Playlist Count</th>\n",
              "      <th>Spotify Playlist Reach</th>\n",
              "      <th>...</th>\n",
              "      <th>SiriusXM Spins</th>\n",
              "      <th>Deezer Playlist Count</th>\n",
              "      <th>Deezer Playlist Reach</th>\n",
              "      <th>Amazon Playlist Count</th>\n",
              "      <th>Pandora Streams</th>\n",
              "      <th>Pandora Track Stations</th>\n",
              "      <th>Soundcloud Streams</th>\n",
              "      <th>Shazam Counts</th>\n",
              "      <th>TIDAL Popularity</th>\n",
              "      <th>Explicit Track</th>\n",
              "    </tr>\n",
              "  </thead>\n",
              "  <tbody>\n",
              "    <tr>\n",
              "      <th>4597</th>\n",
              "      <td>Grace (feat. 42 Dugg)</td>\n",
              "      <td>My Turn</td>\n",
              "      <td>Lil Baby</td>\n",
              "      <td>2/28/2020</td>\n",
              "      <td>USUG12000043</td>\n",
              "      <td>4,571</td>\n",
              "      <td>19.4</td>\n",
              "      <td>189,972,685</td>\n",
              "      <td>72,066</td>\n",
              "      <td>6,704,802</td>\n",
              "      <td>...</td>\n",
              "      <td>NaN</td>\n",
              "      <td>1.0</td>\n",
              "      <td>74</td>\n",
              "      <td>6.0</td>\n",
              "      <td>84,426,740</td>\n",
              "      <td>28,999</td>\n",
              "      <td>NaN</td>\n",
              "      <td>1,135,998</td>\n",
              "      <td>NaN</td>\n",
              "      <td>1</td>\n",
              "    </tr>\n",
              "    <tr>\n",
              "      <th>4598</th>\n",
              "      <td>Nashe Si Chadh Gayi</td>\n",
              "      <td>November Top 10 Songs</td>\n",
              "      <td>Arijit Singh</td>\n",
              "      <td>11/8/2016</td>\n",
              "      <td>INY091600067</td>\n",
              "      <td>4,591</td>\n",
              "      <td>19.4</td>\n",
              "      <td>145,467,020</td>\n",
              "      <td>14,037</td>\n",
              "      <td>7,387,064</td>\n",
              "      <td>...</td>\n",
              "      <td>NaN</td>\n",
              "      <td>NaN</td>\n",
              "      <td>NaN</td>\n",
              "      <td>7.0</td>\n",
              "      <td>6,817,840</td>\n",
              "      <td>NaN</td>\n",
              "      <td>NaN</td>\n",
              "      <td>448,292</td>\n",
              "      <td>NaN</td>\n",
              "      <td>0</td>\n",
              "    </tr>\n",
              "    <tr>\n",
              "      <th>4599</th>\n",
              "      <td>Me Acostumbre (feat. Bad Bunny)</td>\n",
              "      <td>Me Acostumbre (feat. Bad Bunny)</td>\n",
              "      <td>Arcï¿½ï¿½</td>\n",
              "      <td>4/11/2017</td>\n",
              "      <td>USB271700107</td>\n",
              "      <td>4,593</td>\n",
              "      <td>19.4</td>\n",
              "      <td>255,740,653</td>\n",
              "      <td>32,138</td>\n",
              "      <td>14,066,526</td>\n",
              "      <td>...</td>\n",
              "      <td>NaN</td>\n",
              "      <td>4.0</td>\n",
              "      <td>127,479</td>\n",
              "      <td>4.0</td>\n",
              "      <td>69,006,739</td>\n",
              "      <td>11,320</td>\n",
              "      <td>NaN</td>\n",
              "      <td>767,006</td>\n",
              "      <td>NaN</td>\n",
              "      <td>1</td>\n",
              "    </tr>\n",
              "  </tbody>\n",
              "</table>\n",
              "<p>3 rows × 29 columns</p>\n",
              "</div>\n",
              "    <div class=\"colab-df-buttons\">\n",
              "\n",
              "  <div class=\"colab-df-container\">\n",
              "    <button class=\"colab-df-convert\" onclick=\"convertToInteractive('df-9d3252db-d4ed-4fe8-aec8-3ef824d3bfb5')\"\n",
              "            title=\"Convert this dataframe to an interactive table.\"\n",
              "            style=\"display:none;\">\n",
              "\n",
              "  <svg xmlns=\"http://www.w3.org/2000/svg\" height=\"24px\" viewBox=\"0 -960 960 960\">\n",
              "    <path d=\"M120-120v-720h720v720H120Zm60-500h600v-160H180v160Zm220 220h160v-160H400v160Zm0 220h160v-160H400v160ZM180-400h160v-160H180v160Zm440 0h160v-160H620v160ZM180-180h160v-160H180v160Zm440 0h160v-160H620v160Z\"/>\n",
              "  </svg>\n",
              "    </button>\n",
              "\n",
              "  <style>\n",
              "    .colab-df-container {\n",
              "      display:flex;\n",
              "      gap: 12px;\n",
              "    }\n",
              "\n",
              "    .colab-df-convert {\n",
              "      background-color: #E8F0FE;\n",
              "      border: none;\n",
              "      border-radius: 50%;\n",
              "      cursor: pointer;\n",
              "      display: none;\n",
              "      fill: #1967D2;\n",
              "      height: 32px;\n",
              "      padding: 0 0 0 0;\n",
              "      width: 32px;\n",
              "    }\n",
              "\n",
              "    .colab-df-convert:hover {\n",
              "      background-color: #E2EBFA;\n",
              "      box-shadow: 0px 1px 2px rgba(60, 64, 67, 0.3), 0px 1px 3px 1px rgba(60, 64, 67, 0.15);\n",
              "      fill: #174EA6;\n",
              "    }\n",
              "\n",
              "    .colab-df-buttons div {\n",
              "      margin-bottom: 4px;\n",
              "    }\n",
              "\n",
              "    [theme=dark] .colab-df-convert {\n",
              "      background-color: #3B4455;\n",
              "      fill: #D2E3FC;\n",
              "    }\n",
              "\n",
              "    [theme=dark] .colab-df-convert:hover {\n",
              "      background-color: #434B5C;\n",
              "      box-shadow: 0px 1px 3px 1px rgba(0, 0, 0, 0.15);\n",
              "      filter: drop-shadow(0px 1px 2px rgba(0, 0, 0, 0.3));\n",
              "      fill: #FFFFFF;\n",
              "    }\n",
              "  </style>\n",
              "\n",
              "    <script>\n",
              "      const buttonEl =\n",
              "        document.querySelector('#df-9d3252db-d4ed-4fe8-aec8-3ef824d3bfb5 button.colab-df-convert');\n",
              "      buttonEl.style.display =\n",
              "        google.colab.kernel.accessAllowed ? 'block' : 'none';\n",
              "\n",
              "      async function convertToInteractive(key) {\n",
              "        const element = document.querySelector('#df-9d3252db-d4ed-4fe8-aec8-3ef824d3bfb5');\n",
              "        const dataTable =\n",
              "          await google.colab.kernel.invokeFunction('convertToInteractive',\n",
              "                                                    [key], {});\n",
              "        if (!dataTable) return;\n",
              "\n",
              "        const docLinkHtml = 'Like what you see? Visit the ' +\n",
              "          '<a target=\"_blank\" href=https://colab.research.google.com/notebooks/data_table.ipynb>data table notebook</a>'\n",
              "          + ' to learn more about interactive tables.';\n",
              "        element.innerHTML = '';\n",
              "        dataTable['output_type'] = 'display_data';\n",
              "        await google.colab.output.renderOutput(dataTable, element);\n",
              "        const docLink = document.createElement('div');\n",
              "        docLink.innerHTML = docLinkHtml;\n",
              "        element.appendChild(docLink);\n",
              "      }\n",
              "    </script>\n",
              "  </div>\n",
              "\n",
              "\n",
              "<div id=\"df-3131fb16-7a54-4cb6-a7b7-d9fd1741dea7\">\n",
              "  <button class=\"colab-df-quickchart\" onclick=\"quickchart('df-3131fb16-7a54-4cb6-a7b7-d9fd1741dea7')\"\n",
              "            title=\"Suggest charts\"\n",
              "            style=\"display:none;\">\n",
              "\n",
              "<svg xmlns=\"http://www.w3.org/2000/svg\" height=\"24px\"viewBox=\"0 0 24 24\"\n",
              "     width=\"24px\">\n",
              "    <g>\n",
              "        <path d=\"M19 3H5c-1.1 0-2 .9-2 2v14c0 1.1.9 2 2 2h14c1.1 0 2-.9 2-2V5c0-1.1-.9-2-2-2zM9 17H7v-7h2v7zm4 0h-2V7h2v10zm4 0h-2v-4h2v4z\"/>\n",
              "    </g>\n",
              "</svg>\n",
              "  </button>\n",
              "\n",
              "<style>\n",
              "  .colab-df-quickchart {\n",
              "      --bg-color: #E8F0FE;\n",
              "      --fill-color: #1967D2;\n",
              "      --hover-bg-color: #E2EBFA;\n",
              "      --hover-fill-color: #174EA6;\n",
              "      --disabled-fill-color: #AAA;\n",
              "      --disabled-bg-color: #DDD;\n",
              "  }\n",
              "\n",
              "  [theme=dark] .colab-df-quickchart {\n",
              "      --bg-color: #3B4455;\n",
              "      --fill-color: #D2E3FC;\n",
              "      --hover-bg-color: #434B5C;\n",
              "      --hover-fill-color: #FFFFFF;\n",
              "      --disabled-bg-color: #3B4455;\n",
              "      --disabled-fill-color: #666;\n",
              "  }\n",
              "\n",
              "  .colab-df-quickchart {\n",
              "    background-color: var(--bg-color);\n",
              "    border: none;\n",
              "    border-radius: 50%;\n",
              "    cursor: pointer;\n",
              "    display: none;\n",
              "    fill: var(--fill-color);\n",
              "    height: 32px;\n",
              "    padding: 0;\n",
              "    width: 32px;\n",
              "  }\n",
              "\n",
              "  .colab-df-quickchart:hover {\n",
              "    background-color: var(--hover-bg-color);\n",
              "    box-shadow: 0 1px 2px rgba(60, 64, 67, 0.3), 0 1px 3px 1px rgba(60, 64, 67, 0.15);\n",
              "    fill: var(--button-hover-fill-color);\n",
              "  }\n",
              "\n",
              "  .colab-df-quickchart-complete:disabled,\n",
              "  .colab-df-quickchart-complete:disabled:hover {\n",
              "    background-color: var(--disabled-bg-color);\n",
              "    fill: var(--disabled-fill-color);\n",
              "    box-shadow: none;\n",
              "  }\n",
              "\n",
              "  .colab-df-spinner {\n",
              "    border: 2px solid var(--fill-color);\n",
              "    border-color: transparent;\n",
              "    border-bottom-color: var(--fill-color);\n",
              "    animation:\n",
              "      spin 1s steps(1) infinite;\n",
              "  }\n",
              "\n",
              "  @keyframes spin {\n",
              "    0% {\n",
              "      border-color: transparent;\n",
              "      border-bottom-color: var(--fill-color);\n",
              "      border-left-color: var(--fill-color);\n",
              "    }\n",
              "    20% {\n",
              "      border-color: transparent;\n",
              "      border-left-color: var(--fill-color);\n",
              "      border-top-color: var(--fill-color);\n",
              "    }\n",
              "    30% {\n",
              "      border-color: transparent;\n",
              "      border-left-color: var(--fill-color);\n",
              "      border-top-color: var(--fill-color);\n",
              "      border-right-color: var(--fill-color);\n",
              "    }\n",
              "    40% {\n",
              "      border-color: transparent;\n",
              "      border-right-color: var(--fill-color);\n",
              "      border-top-color: var(--fill-color);\n",
              "    }\n",
              "    60% {\n",
              "      border-color: transparent;\n",
              "      border-right-color: var(--fill-color);\n",
              "    }\n",
              "    80% {\n",
              "      border-color: transparent;\n",
              "      border-right-color: var(--fill-color);\n",
              "      border-bottom-color: var(--fill-color);\n",
              "    }\n",
              "    90% {\n",
              "      border-color: transparent;\n",
              "      border-bottom-color: var(--fill-color);\n",
              "    }\n",
              "  }\n",
              "</style>\n",
              "\n",
              "  <script>\n",
              "    async function quickchart(key) {\n",
              "      const quickchartButtonEl =\n",
              "        document.querySelector('#' + key + ' button');\n",
              "      quickchartButtonEl.disabled = true;  // To prevent multiple clicks.\n",
              "      quickchartButtonEl.classList.add('colab-df-spinner');\n",
              "      try {\n",
              "        const charts = await google.colab.kernel.invokeFunction(\n",
              "            'suggestCharts', [key], {});\n",
              "      } catch (error) {\n",
              "        console.error('Error during call to suggestCharts:', error);\n",
              "      }\n",
              "      quickchartButtonEl.classList.remove('colab-df-spinner');\n",
              "      quickchartButtonEl.classList.add('colab-df-quickchart-complete');\n",
              "    }\n",
              "    (() => {\n",
              "      let quickchartButtonEl =\n",
              "        document.querySelector('#df-3131fb16-7a54-4cb6-a7b7-d9fd1741dea7 button');\n",
              "      quickchartButtonEl.style.display =\n",
              "        google.colab.kernel.accessAllowed ? 'block' : 'none';\n",
              "    })();\n",
              "  </script>\n",
              "</div>\n",
              "\n",
              "    </div>\n",
              "  </div>\n"
            ],
            "application/vnd.google.colaboratory.intrinsic+json": {
              "type": "dataframe"
            }
          },
          "metadata": {},
          "execution_count": 9
        }
      ]
    },
    {
      "cell_type": "code",
      "source": [
        "df.shape"
      ],
      "metadata": {
        "id": "QTB9iOxjbFlE",
        "outputId": "26d5e341-1238-4e0b-fbfb-540eb9ec470d",
        "colab": {
          "base_uri": "https://localhost:8080/"
        }
      },
      "execution_count": 15,
      "outputs": [
        {
          "output_type": "execute_result",
          "data": {
            "text/plain": [
              "(4598, 29)"
            ]
          },
          "metadata": {},
          "execution_count": 15
        }
      ]
    },
    {
      "cell_type": "code",
      "source": [
        "df.info()"
      ],
      "metadata": {
        "id": "zy4JaRXbbH_3",
        "outputId": "7acccb12-bb80-4ce4-95b0-31e68db0fd74",
        "colab": {
          "base_uri": "https://localhost:8080/"
        }
      },
      "execution_count": 16,
      "outputs": [
        {
          "output_type": "stream",
          "name": "stdout",
          "text": [
            "<class 'pandas.core.frame.DataFrame'>\n",
            "Index: 4598 entries, 0 to 4599\n",
            "Data columns (total 29 columns):\n",
            " #   Column                      Non-Null Count  Dtype  \n",
            "---  ------                      --------------  -----  \n",
            " 0   Track                       4598 non-null   object \n",
            " 1   Album Name                  4598 non-null   object \n",
            " 2   Artist                      4593 non-null   object \n",
            " 3   Release Date                4598 non-null   object \n",
            " 4   ISRC                        4598 non-null   object \n",
            " 5   All Time Rank               4598 non-null   object \n",
            " 6   Track Score                 4598 non-null   float64\n",
            " 7   Spotify Streams             4485 non-null   object \n",
            " 8   Spotify Playlist Count      4528 non-null   object \n",
            " 9   Spotify Playlist Reach      4526 non-null   object \n",
            " 10  Spotify Popularity          3794 non-null   float64\n",
            " 11  YouTube Views               4290 non-null   object \n",
            " 12  YouTube Likes               4283 non-null   object \n",
            " 13  TikTok Posts                3425 non-null   object \n",
            " 14  TikTok Likes                3618 non-null   object \n",
            " 15  TikTok Views                3617 non-null   object \n",
            " 16  YouTube Playlist Reach      3589 non-null   object \n",
            " 17  Apple Music Playlist Count  4037 non-null   float64\n",
            " 18  AirPlay Spins               4100 non-null   object \n",
            " 19  SiriusXM Spins              2475 non-null   object \n",
            " 20  Deezer Playlist Count       3677 non-null   float64\n",
            " 21  Deezer Playlist Reach       3670 non-null   object \n",
            " 22  Amazon Playlist Count       3543 non-null   float64\n",
            " 23  Pandora Streams             3492 non-null   object \n",
            " 24  Pandora Track Stations      3330 non-null   object \n",
            " 25  Soundcloud Streams          1266 non-null   object \n",
            " 26  Shazam Counts               4021 non-null   object \n",
            " 27  TIDAL Popularity            0 non-null      float64\n",
            " 28  Explicit Track              4598 non-null   int64  \n",
            "dtypes: float64(6), int64(1), object(22)\n",
            "memory usage: 1.1+ MB\n"
          ]
        }
      ]
    },
    {
      "cell_type": "markdown",
      "source": [
        "## 📜 Column Names 📑\n",
        "The dataset includes columns like:\n",
        "* 🎵 **Track**\n",
        "* 📀 **Album Name**\n",
        "* 🎤 **Artist**\n",
        "* 📅 **Release Date**\n",
        "* 🔢 **ISRC**\n",
        "* 📈 **All Time Rank**\n",
        "* ⭐ **Track Score**\n",
        "* 🎧 **Spotify Streams**\n",
        "* 📋 **Spotify Playlist Count**\n",
        "* 🌐 **Spotify Playlist Reach**\n",
        "* 🎼 **Spotify Popularity**\n",
        "* 📹 **YouTube Views**\n",
        "* 👍 **YouTube Likes**\n",
        "* 🎥 **TikTok Posts**\n",
        "* 💖 **TikTok Likes**\n",
        "* 👁️ **TikTok Views**\n",
        "* 🎵 **YouTube Playlist Reach**\n",
        "* 🍏 **Apple Music Playlist Count**\n",
        "* 📻 **AirPlay Spins**\n",
        "* 📡 **SiriusXM Spins**\n",
        "* 🎶 **Deezer Playlist Count**\n",
        "* 🌍 **Deezer Playlist Reach**\n",
        "* 📚 **Amazon Playlist Count**\n",
        "* 🎙️ **Pandora Streams**\n",
        "* 📻 **Pandora Track Stations**\n",
        "* 🔊 **Soundcloud Streams**\n",
        "* 🕵️ **Shazam Counts**\n",
        "* 🎶 **TIDAL Popularity**\n",
        "* 🔞 **Explicit Track**"
      ],
      "metadata": {
        "id": "DN8fIp5cZ0cM"
      }
    },
    {
      "cell_type": "code",
      "source": [
        "df.columns"
      ],
      "metadata": {
        "id": "Jangv2mTZd43",
        "outputId": "59e7d657-a44d-4bf0-90f8-4473b7b096b3",
        "colab": {
          "base_uri": "https://localhost:8080/"
        }
      },
      "execution_count": 10,
      "outputs": [
        {
          "output_type": "execute_result",
          "data": {
            "text/plain": [
              "Index(['Track', 'Album Name', 'Artist', 'Release Date', 'ISRC',\n",
              "       'All Time Rank', 'Track Score', 'Spotify Streams',\n",
              "       'Spotify Playlist Count', 'Spotify Playlist Reach',\n",
              "       'Spotify Popularity', 'YouTube Views', 'YouTube Likes', 'TikTok Posts',\n",
              "       'TikTok Likes', 'TikTok Views', 'YouTube Playlist Reach',\n",
              "       'Apple Music Playlist Count', 'AirPlay Spins', 'SiriusXM Spins',\n",
              "       'Deezer Playlist Count', 'Deezer Playlist Reach',\n",
              "       'Amazon Playlist Count', 'Pandora Streams', 'Pandora Track Stations',\n",
              "       'Soundcloud Streams', 'Shazam Counts', 'TIDAL Popularity',\n",
              "       'Explicit Track'],\n",
              "      dtype='object')"
            ]
          },
          "metadata": {},
          "execution_count": 10
        }
      ]
    },
    {
      "cell_type": "markdown",
      "source": [
        "## 📉 Missing Values Analysis ⚠️\n",
        "We identified columns with missing values:\n",
        "* 🎤 **Artist**: 5 missing values\n",
        "* 🎧 **Spotify Streams**: 113 missing values\n",
        "* 📋 **Spotify Playlist Count**: 70 missing values\n",
        "* 🌐 **Spotify Playlist Reach**: 72 missing values\n",
        "* 🎼 **Spotify Popularity**: 804 missing values\n",
        "* 📹 **YouTube Views**: 308 missing values\n",
        "* 👍 **YouTube Likes**: 315 missing values\n",
        "* 🎥 **TikTok Posts**: 1173 missing values\n",
        "* 💖 **TikTok Likes**: 980 missing values\n",
        "* 👁️ **TikTok Views**: 981 missing values\n",
        "* 🎵 **YouTube Playlist Reach**: 1009 missing values\n",
        "* 🍏 **Apple Music Playlist Count**: 561 missing values\n",
        "* 📻 **AirPlay Spins**: 498 missing values\n",
        "* 📡 **SiriusXM Spins**: 2123 missing values\n",
        "* 🎶 **Deezer Playlist Count**: 921 missing values\n",
        "* 🌍 **Deezer Playlist Reach**: 928 missing values\n",
        "* 📚 **Amazon Playlist Count**: 1055 missing values\n",
        "* 🎙️ **Pandora Streams**: 1106 missing values\n",
        "* 📻 **Pandora Track Stations**: 1268 missing values\n",
        "* 🔊 **Soundcloud Streams**: 3333 missing values\n",
        "* 🕵️ **Shazam Counts**: 577 missing values\n",
        "* 🎶 **TIDAL Popularity**: 4600 missing values"
      ],
      "metadata": {
        "id": "oljyvGxBaBJa"
      }
    },
    {
      "cell_type": "code",
      "source": [
        "df.isna().sum()"
      ],
      "metadata": {
        "id": "EmT-knBHZ4tm",
        "outputId": "ac8c105e-6d9f-465a-bb9a-16092c815126",
        "colab": {
          "base_uri": "https://localhost:8080/",
          "height": 994
        }
      },
      "execution_count": 11,
      "outputs": [
        {
          "output_type": "execute_result",
          "data": {
            "text/plain": [
              "Track                            0\n",
              "Album Name                       0\n",
              "Artist                           5\n",
              "Release Date                     0\n",
              "ISRC                             0\n",
              "All Time Rank                    0\n",
              "Track Score                      0\n",
              "Spotify Streams                113\n",
              "Spotify Playlist Count          70\n",
              "Spotify Playlist Reach          72\n",
              "Spotify Popularity             804\n",
              "YouTube Views                  308\n",
              "YouTube Likes                  315\n",
              "TikTok Posts                  1173\n",
              "TikTok Likes                   980\n",
              "TikTok Views                   981\n",
              "YouTube Playlist Reach        1009\n",
              "Apple Music Playlist Count     561\n",
              "AirPlay Spins                  498\n",
              "SiriusXM Spins                2123\n",
              "Deezer Playlist Count          921\n",
              "Deezer Playlist Reach          928\n",
              "Amazon Playlist Count         1055\n",
              "Pandora Streams               1106\n",
              "Pandora Track Stations        1268\n",
              "Soundcloud Streams            3333\n",
              "Shazam Counts                  577\n",
              "TIDAL Popularity              4600\n",
              "Explicit Track                   0\n",
              "dtype: int64"
            ],
            "text/html": [
              "<div>\n",
              "<style scoped>\n",
              "    .dataframe tbody tr th:only-of-type {\n",
              "        vertical-align: middle;\n",
              "    }\n",
              "\n",
              "    .dataframe tbody tr th {\n",
              "        vertical-align: top;\n",
              "    }\n",
              "\n",
              "    .dataframe thead th {\n",
              "        text-align: right;\n",
              "    }\n",
              "</style>\n",
              "<table border=\"1\" class=\"dataframe\">\n",
              "  <thead>\n",
              "    <tr style=\"text-align: right;\">\n",
              "      <th></th>\n",
              "      <th>0</th>\n",
              "    </tr>\n",
              "  </thead>\n",
              "  <tbody>\n",
              "    <tr>\n",
              "      <th>Track</th>\n",
              "      <td>0</td>\n",
              "    </tr>\n",
              "    <tr>\n",
              "      <th>Album Name</th>\n",
              "      <td>0</td>\n",
              "    </tr>\n",
              "    <tr>\n",
              "      <th>Artist</th>\n",
              "      <td>5</td>\n",
              "    </tr>\n",
              "    <tr>\n",
              "      <th>Release Date</th>\n",
              "      <td>0</td>\n",
              "    </tr>\n",
              "    <tr>\n",
              "      <th>ISRC</th>\n",
              "      <td>0</td>\n",
              "    </tr>\n",
              "    <tr>\n",
              "      <th>All Time Rank</th>\n",
              "      <td>0</td>\n",
              "    </tr>\n",
              "    <tr>\n",
              "      <th>Track Score</th>\n",
              "      <td>0</td>\n",
              "    </tr>\n",
              "    <tr>\n",
              "      <th>Spotify Streams</th>\n",
              "      <td>113</td>\n",
              "    </tr>\n",
              "    <tr>\n",
              "      <th>Spotify Playlist Count</th>\n",
              "      <td>70</td>\n",
              "    </tr>\n",
              "    <tr>\n",
              "      <th>Spotify Playlist Reach</th>\n",
              "      <td>72</td>\n",
              "    </tr>\n",
              "    <tr>\n",
              "      <th>Spotify Popularity</th>\n",
              "      <td>804</td>\n",
              "    </tr>\n",
              "    <tr>\n",
              "      <th>YouTube Views</th>\n",
              "      <td>308</td>\n",
              "    </tr>\n",
              "    <tr>\n",
              "      <th>YouTube Likes</th>\n",
              "      <td>315</td>\n",
              "    </tr>\n",
              "    <tr>\n",
              "      <th>TikTok Posts</th>\n",
              "      <td>1173</td>\n",
              "    </tr>\n",
              "    <tr>\n",
              "      <th>TikTok Likes</th>\n",
              "      <td>980</td>\n",
              "    </tr>\n",
              "    <tr>\n",
              "      <th>TikTok Views</th>\n",
              "      <td>981</td>\n",
              "    </tr>\n",
              "    <tr>\n",
              "      <th>YouTube Playlist Reach</th>\n",
              "      <td>1009</td>\n",
              "    </tr>\n",
              "    <tr>\n",
              "      <th>Apple Music Playlist Count</th>\n",
              "      <td>561</td>\n",
              "    </tr>\n",
              "    <tr>\n",
              "      <th>AirPlay Spins</th>\n",
              "      <td>498</td>\n",
              "    </tr>\n",
              "    <tr>\n",
              "      <th>SiriusXM Spins</th>\n",
              "      <td>2123</td>\n",
              "    </tr>\n",
              "    <tr>\n",
              "      <th>Deezer Playlist Count</th>\n",
              "      <td>921</td>\n",
              "    </tr>\n",
              "    <tr>\n",
              "      <th>Deezer Playlist Reach</th>\n",
              "      <td>928</td>\n",
              "    </tr>\n",
              "    <tr>\n",
              "      <th>Amazon Playlist Count</th>\n",
              "      <td>1055</td>\n",
              "    </tr>\n",
              "    <tr>\n",
              "      <th>Pandora Streams</th>\n",
              "      <td>1106</td>\n",
              "    </tr>\n",
              "    <tr>\n",
              "      <th>Pandora Track Stations</th>\n",
              "      <td>1268</td>\n",
              "    </tr>\n",
              "    <tr>\n",
              "      <th>Soundcloud Streams</th>\n",
              "      <td>3333</td>\n",
              "    </tr>\n",
              "    <tr>\n",
              "      <th>Shazam Counts</th>\n",
              "      <td>577</td>\n",
              "    </tr>\n",
              "    <tr>\n",
              "      <th>TIDAL Popularity</th>\n",
              "      <td>4600</td>\n",
              "    </tr>\n",
              "    <tr>\n",
              "      <th>Explicit Track</th>\n",
              "      <td>0</td>\n",
              "    </tr>\n",
              "  </tbody>\n",
              "</table>\n",
              "</div><br><label><b>dtype:</b> int64</label>"
            ]
          },
          "metadata": {},
          "execution_count": 11
        }
      ]
    },
    {
      "cell_type": "markdown",
      "source": [
        "## 🔄 Removing Duplicates 🔥\n",
        "We checked for duplicate entries in the dataset:\n",
        "* 🚨 **Duplicates Found**: 2\n",
        "* 🗑️ **Duplicates Removed**: The dataset now contains 4598 rows."
      ],
      "metadata": {
        "id": "0fYHd0EUagP6"
      }
    },
    {
      "cell_type": "code",
      "source": [
        "df.duplicated().sum()"
      ],
      "metadata": {
        "id": "T8n_r1t9aFUC",
        "outputId": "8014c75f-f88e-479c-e212-5c4a84b8fdb9",
        "colab": {
          "base_uri": "https://localhost:8080/"
        }
      },
      "execution_count": 12,
      "outputs": [
        {
          "output_type": "execute_result",
          "data": {
            "text/plain": [
              "2"
            ]
          },
          "metadata": {},
          "execution_count": 12
        }
      ]
    },
    {
      "cell_type": "code",
      "source": [
        "df.drop_duplicates(inplace=True)"
      ],
      "metadata": {
        "id": "he88IiaVanE_"
      },
      "execution_count": 13,
      "outputs": []
    },
    {
      "cell_type": "code",
      "source": [
        "df.duplicated().sum()"
      ],
      "metadata": {
        "id": "TrLc_K2Waqm7",
        "outputId": "cf34119f-58c0-465a-a8db-a8c531566bfe",
        "colab": {
          "base_uri": "https://localhost:8080/"
        }
      },
      "execution_count": 14,
      "outputs": [
        {
          "output_type": "execute_result",
          "data": {
            "text/plain": [
              "0"
            ]
          },
          "metadata": {},
          "execution_count": 14
        }
      ]
    },
    {
      "cell_type": "markdown",
      "source": [
        "## 📊 Descriptive Statistics 📈\n",
        "We computed descriptive statistics for the following columns:\n",
        "* ⭐ **Track Score**: Mean of 41.85, Standard Deviation of 38.55\n",
        "* 🎼 **Spotify Popularity**: Mean of 63.50, Standard Deviation of 16.19\n",
        "* 🍏 **Apple Music Playlist Count**: Mean of 54.61, Standard Deviation of 71.63\n",
        "* 🎶 **Deezer Playlist Count**: Mean of 32.32, Standard Deviation of 54.29\n",
        "* 📚 **Amazon Playlist Count**: Mean of 25.35, Standard Deviation of 25.99\n",
        "* 🎶 **TIDAL Popularity**: This column was dropped due to all missing values.\n",
        "* 🔞 **Explicit Track**: 0 or 1 indicating the explicit nature of the track."
      ],
      "metadata": {
        "id": "69Rgd0-La7Ew"
      }
    },
    {
      "cell_type": "code",
      "source": [
        "df.describe()"
      ],
      "metadata": {
        "id": "oxfVC4Z4aswB",
        "outputId": "13a1d4e4-f181-4c7f-cc53-09558196e054",
        "colab": {
          "base_uri": "https://localhost:8080/",
          "height": 318
        }
      },
      "execution_count": 17,
      "outputs": [
        {
          "output_type": "execute_result",
          "data": {
            "text/plain": [
              "       Track Score  Spotify Popularity  Apple Music Playlist Count  \\\n",
              "count  4598.000000         3794.000000                 4037.000000   \n",
              "mean     41.850892           63.498682                   54.613574   \n",
              "std      38.550706           16.189952                   71.628469   \n",
              "min      19.400000            1.000000                    1.000000   \n",
              "25%      23.300000           61.000000                   10.000000   \n",
              "50%      29.900000           67.000000                   28.000000   \n",
              "75%      44.475000           73.000000                   70.000000   \n",
              "max     725.400000           96.000000                  859.000000   \n",
              "\n",
              "       Deezer Playlist Count  Amazon Playlist Count  TIDAL Popularity  \\\n",
              "count            3677.000000            3543.000000               0.0   \n",
              "mean               32.321730              25.346034               NaN   \n",
              "std                54.287051              25.993157               NaN   \n",
              "min                 1.000000               1.000000               NaN   \n",
              "25%                 5.000000               8.000000               NaN   \n",
              "50%                15.000000              17.000000               NaN   \n",
              "75%                37.000000              34.000000               NaN   \n",
              "max               632.000000             210.000000               NaN   \n",
              "\n",
              "       Explicit Track  \n",
              "count     4598.000000  \n",
              "mean         0.359069  \n",
              "std          0.479780  \n",
              "min          0.000000  \n",
              "25%          0.000000  \n",
              "50%          0.000000  \n",
              "75%          1.000000  \n",
              "max          1.000000  "
            ],
            "text/html": [
              "\n",
              "  <div id=\"df-def867b4-460a-4f66-97c1-0a9fbc4b0d31\" class=\"colab-df-container\">\n",
              "    <div>\n",
              "<style scoped>\n",
              "    .dataframe tbody tr th:only-of-type {\n",
              "        vertical-align: middle;\n",
              "    }\n",
              "\n",
              "    .dataframe tbody tr th {\n",
              "        vertical-align: top;\n",
              "    }\n",
              "\n",
              "    .dataframe thead th {\n",
              "        text-align: right;\n",
              "    }\n",
              "</style>\n",
              "<table border=\"1\" class=\"dataframe\">\n",
              "  <thead>\n",
              "    <tr style=\"text-align: right;\">\n",
              "      <th></th>\n",
              "      <th>Track Score</th>\n",
              "      <th>Spotify Popularity</th>\n",
              "      <th>Apple Music Playlist Count</th>\n",
              "      <th>Deezer Playlist Count</th>\n",
              "      <th>Amazon Playlist Count</th>\n",
              "      <th>TIDAL Popularity</th>\n",
              "      <th>Explicit Track</th>\n",
              "    </tr>\n",
              "  </thead>\n",
              "  <tbody>\n",
              "    <tr>\n",
              "      <th>count</th>\n",
              "      <td>4598.000000</td>\n",
              "      <td>3794.000000</td>\n",
              "      <td>4037.000000</td>\n",
              "      <td>3677.000000</td>\n",
              "      <td>3543.000000</td>\n",
              "      <td>0.0</td>\n",
              "      <td>4598.000000</td>\n",
              "    </tr>\n",
              "    <tr>\n",
              "      <th>mean</th>\n",
              "      <td>41.850892</td>\n",
              "      <td>63.498682</td>\n",
              "      <td>54.613574</td>\n",
              "      <td>32.321730</td>\n",
              "      <td>25.346034</td>\n",
              "      <td>NaN</td>\n",
              "      <td>0.359069</td>\n",
              "    </tr>\n",
              "    <tr>\n",
              "      <th>std</th>\n",
              "      <td>38.550706</td>\n",
              "      <td>16.189952</td>\n",
              "      <td>71.628469</td>\n",
              "      <td>54.287051</td>\n",
              "      <td>25.993157</td>\n",
              "      <td>NaN</td>\n",
              "      <td>0.479780</td>\n",
              "    </tr>\n",
              "    <tr>\n",
              "      <th>min</th>\n",
              "      <td>19.400000</td>\n",
              "      <td>1.000000</td>\n",
              "      <td>1.000000</td>\n",
              "      <td>1.000000</td>\n",
              "      <td>1.000000</td>\n",
              "      <td>NaN</td>\n",
              "      <td>0.000000</td>\n",
              "    </tr>\n",
              "    <tr>\n",
              "      <th>25%</th>\n",
              "      <td>23.300000</td>\n",
              "      <td>61.000000</td>\n",
              "      <td>10.000000</td>\n",
              "      <td>5.000000</td>\n",
              "      <td>8.000000</td>\n",
              "      <td>NaN</td>\n",
              "      <td>0.000000</td>\n",
              "    </tr>\n",
              "    <tr>\n",
              "      <th>50%</th>\n",
              "      <td>29.900000</td>\n",
              "      <td>67.000000</td>\n",
              "      <td>28.000000</td>\n",
              "      <td>15.000000</td>\n",
              "      <td>17.000000</td>\n",
              "      <td>NaN</td>\n",
              "      <td>0.000000</td>\n",
              "    </tr>\n",
              "    <tr>\n",
              "      <th>75%</th>\n",
              "      <td>44.475000</td>\n",
              "      <td>73.000000</td>\n",
              "      <td>70.000000</td>\n",
              "      <td>37.000000</td>\n",
              "      <td>34.000000</td>\n",
              "      <td>NaN</td>\n",
              "      <td>1.000000</td>\n",
              "    </tr>\n",
              "    <tr>\n",
              "      <th>max</th>\n",
              "      <td>725.400000</td>\n",
              "      <td>96.000000</td>\n",
              "      <td>859.000000</td>\n",
              "      <td>632.000000</td>\n",
              "      <td>210.000000</td>\n",
              "      <td>NaN</td>\n",
              "      <td>1.000000</td>\n",
              "    </tr>\n",
              "  </tbody>\n",
              "</table>\n",
              "</div>\n",
              "    <div class=\"colab-df-buttons\">\n",
              "\n",
              "  <div class=\"colab-df-container\">\n",
              "    <button class=\"colab-df-convert\" onclick=\"convertToInteractive('df-def867b4-460a-4f66-97c1-0a9fbc4b0d31')\"\n",
              "            title=\"Convert this dataframe to an interactive table.\"\n",
              "            style=\"display:none;\">\n",
              "\n",
              "  <svg xmlns=\"http://www.w3.org/2000/svg\" height=\"24px\" viewBox=\"0 -960 960 960\">\n",
              "    <path d=\"M120-120v-720h720v720H120Zm60-500h600v-160H180v160Zm220 220h160v-160H400v160Zm0 220h160v-160H400v160ZM180-400h160v-160H180v160Zm440 0h160v-160H620v160ZM180-180h160v-160H180v160Zm440 0h160v-160H620v160Z\"/>\n",
              "  </svg>\n",
              "    </button>\n",
              "\n",
              "  <style>\n",
              "    .colab-df-container {\n",
              "      display:flex;\n",
              "      gap: 12px;\n",
              "    }\n",
              "\n",
              "    .colab-df-convert {\n",
              "      background-color: #E8F0FE;\n",
              "      border: none;\n",
              "      border-radius: 50%;\n",
              "      cursor: pointer;\n",
              "      display: none;\n",
              "      fill: #1967D2;\n",
              "      height: 32px;\n",
              "      padding: 0 0 0 0;\n",
              "      width: 32px;\n",
              "    }\n",
              "\n",
              "    .colab-df-convert:hover {\n",
              "      background-color: #E2EBFA;\n",
              "      box-shadow: 0px 1px 2px rgba(60, 64, 67, 0.3), 0px 1px 3px 1px rgba(60, 64, 67, 0.15);\n",
              "      fill: #174EA6;\n",
              "    }\n",
              "\n",
              "    .colab-df-buttons div {\n",
              "      margin-bottom: 4px;\n",
              "    }\n",
              "\n",
              "    [theme=dark] .colab-df-convert {\n",
              "      background-color: #3B4455;\n",
              "      fill: #D2E3FC;\n",
              "    }\n",
              "\n",
              "    [theme=dark] .colab-df-convert:hover {\n",
              "      background-color: #434B5C;\n",
              "      box-shadow: 0px 1px 3px 1px rgba(0, 0, 0, 0.15);\n",
              "      filter: drop-shadow(0px 1px 2px rgba(0, 0, 0, 0.3));\n",
              "      fill: #FFFFFF;\n",
              "    }\n",
              "  </style>\n",
              "\n",
              "    <script>\n",
              "      const buttonEl =\n",
              "        document.querySelector('#df-def867b4-460a-4f66-97c1-0a9fbc4b0d31 button.colab-df-convert');\n",
              "      buttonEl.style.display =\n",
              "        google.colab.kernel.accessAllowed ? 'block' : 'none';\n",
              "\n",
              "      async function convertToInteractive(key) {\n",
              "        const element = document.querySelector('#df-def867b4-460a-4f66-97c1-0a9fbc4b0d31');\n",
              "        const dataTable =\n",
              "          await google.colab.kernel.invokeFunction('convertToInteractive',\n",
              "                                                    [key], {});\n",
              "        if (!dataTable) return;\n",
              "\n",
              "        const docLinkHtml = 'Like what you see? Visit the ' +\n",
              "          '<a target=\"_blank\" href=https://colab.research.google.com/notebooks/data_table.ipynb>data table notebook</a>'\n",
              "          + ' to learn more about interactive tables.';\n",
              "        element.innerHTML = '';\n",
              "        dataTable['output_type'] = 'display_data';\n",
              "        await google.colab.output.renderOutput(dataTable, element);\n",
              "        const docLink = document.createElement('div');\n",
              "        docLink.innerHTML = docLinkHtml;\n",
              "        element.appendChild(docLink);\n",
              "      }\n",
              "    </script>\n",
              "  </div>\n",
              "\n",
              "\n",
              "<div id=\"df-cea13a18-aa7f-4d8d-afe2-24f74f6916c5\">\n",
              "  <button class=\"colab-df-quickchart\" onclick=\"quickchart('df-cea13a18-aa7f-4d8d-afe2-24f74f6916c5')\"\n",
              "            title=\"Suggest charts\"\n",
              "            style=\"display:none;\">\n",
              "\n",
              "<svg xmlns=\"http://www.w3.org/2000/svg\" height=\"24px\"viewBox=\"0 0 24 24\"\n",
              "     width=\"24px\">\n",
              "    <g>\n",
              "        <path d=\"M19 3H5c-1.1 0-2 .9-2 2v14c0 1.1.9 2 2 2h14c1.1 0 2-.9 2-2V5c0-1.1-.9-2-2-2zM9 17H7v-7h2v7zm4 0h-2V7h2v10zm4 0h-2v-4h2v4z\"/>\n",
              "    </g>\n",
              "</svg>\n",
              "  </button>\n",
              "\n",
              "<style>\n",
              "  .colab-df-quickchart {\n",
              "      --bg-color: #E8F0FE;\n",
              "      --fill-color: #1967D2;\n",
              "      --hover-bg-color: #E2EBFA;\n",
              "      --hover-fill-color: #174EA6;\n",
              "      --disabled-fill-color: #AAA;\n",
              "      --disabled-bg-color: #DDD;\n",
              "  }\n",
              "\n",
              "  [theme=dark] .colab-df-quickchart {\n",
              "      --bg-color: #3B4455;\n",
              "      --fill-color: #D2E3FC;\n",
              "      --hover-bg-color: #434B5C;\n",
              "      --hover-fill-color: #FFFFFF;\n",
              "      --disabled-bg-color: #3B4455;\n",
              "      --disabled-fill-color: #666;\n",
              "  }\n",
              "\n",
              "  .colab-df-quickchart {\n",
              "    background-color: var(--bg-color);\n",
              "    border: none;\n",
              "    border-radius: 50%;\n",
              "    cursor: pointer;\n",
              "    display: none;\n",
              "    fill: var(--fill-color);\n",
              "    height: 32px;\n",
              "    padding: 0;\n",
              "    width: 32px;\n",
              "  }\n",
              "\n",
              "  .colab-df-quickchart:hover {\n",
              "    background-color: var(--hover-bg-color);\n",
              "    box-shadow: 0 1px 2px rgba(60, 64, 67, 0.3), 0 1px 3px 1px rgba(60, 64, 67, 0.15);\n",
              "    fill: var(--button-hover-fill-color);\n",
              "  }\n",
              "\n",
              "  .colab-df-quickchart-complete:disabled,\n",
              "  .colab-df-quickchart-complete:disabled:hover {\n",
              "    background-color: var(--disabled-bg-color);\n",
              "    fill: var(--disabled-fill-color);\n",
              "    box-shadow: none;\n",
              "  }\n",
              "\n",
              "  .colab-df-spinner {\n",
              "    border: 2px solid var(--fill-color);\n",
              "    border-color: transparent;\n",
              "    border-bottom-color: var(--fill-color);\n",
              "    animation:\n",
              "      spin 1s steps(1) infinite;\n",
              "  }\n",
              "\n",
              "  @keyframes spin {\n",
              "    0% {\n",
              "      border-color: transparent;\n",
              "      border-bottom-color: var(--fill-color);\n",
              "      border-left-color: var(--fill-color);\n",
              "    }\n",
              "    20% {\n",
              "      border-color: transparent;\n",
              "      border-left-color: var(--fill-color);\n",
              "      border-top-color: var(--fill-color);\n",
              "    }\n",
              "    30% {\n",
              "      border-color: transparent;\n",
              "      border-left-color: var(--fill-color);\n",
              "      border-top-color: var(--fill-color);\n",
              "      border-right-color: var(--fill-color);\n",
              "    }\n",
              "    40% {\n",
              "      border-color: transparent;\n",
              "      border-right-color: var(--fill-color);\n",
              "      border-top-color: var(--fill-color);\n",
              "    }\n",
              "    60% {\n",
              "      border-color: transparent;\n",
              "      border-right-color: var(--fill-color);\n",
              "    }\n",
              "    80% {\n",
              "      border-color: transparent;\n",
              "      border-right-color: var(--fill-color);\n",
              "      border-bottom-color: var(--fill-color);\n",
              "    }\n",
              "    90% {\n",
              "      border-color: transparent;\n",
              "      border-bottom-color: var(--fill-color);\n",
              "    }\n",
              "  }\n",
              "</style>\n",
              "\n",
              "  <script>\n",
              "    async function quickchart(key) {\n",
              "      const quickchartButtonEl =\n",
              "        document.querySelector('#' + key + ' button');\n",
              "      quickchartButtonEl.disabled = true;  // To prevent multiple clicks.\n",
              "      quickchartButtonEl.classList.add('colab-df-spinner');\n",
              "      try {\n",
              "        const charts = await google.colab.kernel.invokeFunction(\n",
              "            'suggestCharts', [key], {});\n",
              "      } catch (error) {\n",
              "        console.error('Error during call to suggestCharts:', error);\n",
              "      }\n",
              "      quickchartButtonEl.classList.remove('colab-df-spinner');\n",
              "      quickchartButtonEl.classList.add('colab-df-quickchart-complete');\n",
              "    }\n",
              "    (() => {\n",
              "      let quickchartButtonEl =\n",
              "        document.querySelector('#df-cea13a18-aa7f-4d8d-afe2-24f74f6916c5 button');\n",
              "      quickchartButtonEl.style.display =\n",
              "        google.colab.kernel.accessAllowed ? 'block' : 'none';\n",
              "    })();\n",
              "  </script>\n",
              "</div>\n",
              "\n",
              "    </div>\n",
              "  </div>\n"
            ],
            "application/vnd.google.colaboratory.intrinsic+json": {
              "type": "dataframe",
              "summary": "{\n  \"name\": \"df\",\n  \"rows\": 8,\n  \"fields\": [\n    {\n      \"column\": \"Track Score\",\n      \"properties\": {\n        \"dtype\": \"number\",\n        \"std\": 1597.5350789356617,\n        \"min\": 19.4,\n        \"max\": 4598.0,\n        \"num_unique_values\": 8,\n        \"samples\": [\n          41.85089169204002,\n          29.9,\n          4598.0\n        ],\n        \"semantic_type\": \"\",\n        \"description\": \"\"\n      }\n    },\n    {\n      \"column\": \"Spotify Popularity\",\n      \"properties\": {\n        \"dtype\": \"number\",\n        \"std\": 1322.665757340433,\n        \"min\": 1.0,\n        \"max\": 3794.0,\n        \"num_unique_values\": 8,\n        \"samples\": [\n          63.49868212967844,\n          67.0,\n          3794.0\n        ],\n        \"semantic_type\": \"\",\n        \"description\": \"\"\n      }\n    },\n    {\n      \"column\": \"Apple Music Playlist Count\",\n      \"properties\": {\n        \"dtype\": \"number\",\n        \"std\": 1401.9345137887215,\n        \"min\": 1.0,\n        \"max\": 4037.0,\n        \"num_unique_values\": 8,\n        \"samples\": [\n          54.61357443646272,\n          28.0,\n          4037.0\n        ],\n        \"semantic_type\": \"\",\n        \"description\": \"\"\n      }\n    },\n    {\n      \"column\": \"Deezer Playlist Count\",\n      \"properties\": {\n        \"dtype\": \"number\",\n        \"std\": 1278.7290499231503,\n        \"min\": 1.0,\n        \"max\": 3677.0,\n        \"num_unique_values\": 8,\n        \"samples\": [\n          32.32172967092739,\n          15.0,\n          3677.0\n        ],\n        \"semantic_type\": \"\",\n        \"description\": \"\"\n      }\n    },\n    {\n      \"column\": \"Amazon Playlist Count\",\n      \"properties\": {\n        \"dtype\": \"number\",\n        \"std\": 1238.2670720769015,\n        \"min\": 1.0,\n        \"max\": 3543.0,\n        \"num_unique_values\": 8,\n        \"samples\": [\n          25.3460344340954,\n          17.0,\n          3543.0\n        ],\n        \"semantic_type\": \"\",\n        \"description\": \"\"\n      }\n    },\n    {\n      \"column\": \"TIDAL Popularity\",\n      \"properties\": {\n        \"dtype\": \"number\",\n        \"std\": null,\n        \"min\": 0.0,\n        \"max\": 0.0,\n        \"num_unique_values\": 1,\n        \"samples\": [\n          0.0\n        ],\n        \"semantic_type\": \"\",\n        \"description\": \"\"\n      }\n    },\n    {\n      \"column\": \"Explicit Track\",\n      \"properties\": {\n        \"dtype\": \"number\",\n        \"std\": 1625.49515950285,\n        \"min\": 0.0,\n        \"max\": 4598.0,\n        \"num_unique_values\": 5,\n        \"samples\": [\n          0.3590691605045672\n        ],\n        \"semantic_type\": \"\",\n        \"description\": \"\"\n      }\n    }\n  ]\n}"
            }
          },
          "metadata": {},
          "execution_count": 17
        }
      ]
    },
    {
      "cell_type": "markdown",
      "source": [
        "## 🗑️ Dropping Unnecessary Columns 🧹\n",
        "The **TIDAL Popularity** column was dropped from the dataset:\n",
        "* ❌ **Reason**: This column contained only missing values and did not contribute to our analysis."
      ],
      "metadata": {
        "id": "b5d_3y2HdR4s"
      }
    },
    {
      "cell_type": "code",
      "source": [
        "df.drop(\"TIDAL Popularity\",axis=1,inplace=True)"
      ],
      "metadata": {
        "id": "b2sw6uAgbWLn"
      },
      "execution_count": 18,
      "outputs": []
    },
    {
      "cell_type": "code",
      "source": [],
      "metadata": {
        "id": "3rpp7dxYdcYA"
      },
      "execution_count": null,
      "outputs": []
    }
  ]
}