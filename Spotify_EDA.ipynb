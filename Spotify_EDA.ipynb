{
  "nbformat": 4,
  "nbformat_minor": 0,
  "metadata": {
    "colab": {
      "provenance": [],
      "authorship_tag": "ABX9TyM+o4WIaWbRDu75+GijxujK",
      "include_colab_link": true
    },
    "kernelspec": {
      "name": "python3",
      "display_name": "Python 3"
    },
    "language_info": {
      "name": "python"
    }
  },
  "cells": [
    {
      "cell_type": "markdown",
      "metadata": {
        "id": "view-in-github",
        "colab_type": "text"
      },
      "source": [
        "<a href=\"https://colab.research.google.com/github/Abhijith-S-D/Spotify-EDA/blob/main/Spotify_EDA.ipynb\" target=\"_parent\"><img src=\"https://colab.research.google.com/assets/colab-badge.svg\" alt=\"Open In Colab\"/></a>"
      ]
    },
    {
      "cell_type": "markdown",
      "source": [
        "# Data Setup linking kaggle and google colab"
      ],
      "metadata": {
        "id": "iAD6kA16ZTtc"
      }
    },
    {
      "cell_type": "markdown",
      "source": [
        "## Read the kaggle API token to interact with your kaggle account"
      ],
      "metadata": {
        "id": "I2z5NWs3bPwd"
      }
    },
    {
      "cell_type": "code",
      "source": [
        "from google.colab import files\n",
        "files.upload()"
      ],
      "metadata": {
        "id": "uwpOxUhHbU0W",
        "outputId": "c786988a-ae02-428f-92c3-1b95a263a665",
        "colab": {
          "base_uri": "https://localhost:8080/",
          "height": 92
        }
      },
      "execution_count": 1,
      "outputs": [
        {
          "output_type": "display_data",
          "data": {
            "text/plain": [
              "<IPython.core.display.HTML object>"
            ],
            "text/html": [
              "\n",
              "     <input type=\"file\" id=\"files-e3797a0f-45b7-4860-92d1-d0799f47a9d4\" name=\"files[]\" multiple disabled\n",
              "        style=\"border:none\" />\n",
              "     <output id=\"result-e3797a0f-45b7-4860-92d1-d0799f47a9d4\">\n",
              "      Upload widget is only available when the cell has been executed in the\n",
              "      current browser session. Please rerun this cell to enable.\n",
              "      </output>\n",
              "      <script>// Copyright 2017 Google LLC\n",
              "//\n",
              "// Licensed under the Apache License, Version 2.0 (the \"License\");\n",
              "// you may not use this file except in compliance with the License.\n",
              "// You may obtain a copy of the License at\n",
              "//\n",
              "//      http://www.apache.org/licenses/LICENSE-2.0\n",
              "//\n",
              "// Unless required by applicable law or agreed to in writing, software\n",
              "// distributed under the License is distributed on an \"AS IS\" BASIS,\n",
              "// WITHOUT WARRANTIES OR CONDITIONS OF ANY KIND, either express or implied.\n",
              "// See the License for the specific language governing permissions and\n",
              "// limitations under the License.\n",
              "\n",
              "/**\n",
              " * @fileoverview Helpers for google.colab Python module.\n",
              " */\n",
              "(function(scope) {\n",
              "function span(text, styleAttributes = {}) {\n",
              "  const element = document.createElement('span');\n",
              "  element.textContent = text;\n",
              "  for (const key of Object.keys(styleAttributes)) {\n",
              "    element.style[key] = styleAttributes[key];\n",
              "  }\n",
              "  return element;\n",
              "}\n",
              "\n",
              "// Max number of bytes which will be uploaded at a time.\n",
              "const MAX_PAYLOAD_SIZE = 100 * 1024;\n",
              "\n",
              "function _uploadFiles(inputId, outputId) {\n",
              "  const steps = uploadFilesStep(inputId, outputId);\n",
              "  const outputElement = document.getElementById(outputId);\n",
              "  // Cache steps on the outputElement to make it available for the next call\n",
              "  // to uploadFilesContinue from Python.\n",
              "  outputElement.steps = steps;\n",
              "\n",
              "  return _uploadFilesContinue(outputId);\n",
              "}\n",
              "\n",
              "// This is roughly an async generator (not supported in the browser yet),\n",
              "// where there are multiple asynchronous steps and the Python side is going\n",
              "// to poll for completion of each step.\n",
              "// This uses a Promise to block the python side on completion of each step,\n",
              "// then passes the result of the previous step as the input to the next step.\n",
              "function _uploadFilesContinue(outputId) {\n",
              "  const outputElement = document.getElementById(outputId);\n",
              "  const steps = outputElement.steps;\n",
              "\n",
              "  const next = steps.next(outputElement.lastPromiseValue);\n",
              "  return Promise.resolve(next.value.promise).then((value) => {\n",
              "    // Cache the last promise value to make it available to the next\n",
              "    // step of the generator.\n",
              "    outputElement.lastPromiseValue = value;\n",
              "    return next.value.response;\n",
              "  });\n",
              "}\n",
              "\n",
              "/**\n",
              " * Generator function which is called between each async step of the upload\n",
              " * process.\n",
              " * @param {string} inputId Element ID of the input file picker element.\n",
              " * @param {string} outputId Element ID of the output display.\n",
              " * @return {!Iterable<!Object>} Iterable of next steps.\n",
              " */\n",
              "function* uploadFilesStep(inputId, outputId) {\n",
              "  const inputElement = document.getElementById(inputId);\n",
              "  inputElement.disabled = false;\n",
              "\n",
              "  const outputElement = document.getElementById(outputId);\n",
              "  outputElement.innerHTML = '';\n",
              "\n",
              "  const pickedPromise = new Promise((resolve) => {\n",
              "    inputElement.addEventListener('change', (e) => {\n",
              "      resolve(e.target.files);\n",
              "    });\n",
              "  });\n",
              "\n",
              "  const cancel = document.createElement('button');\n",
              "  inputElement.parentElement.appendChild(cancel);\n",
              "  cancel.textContent = 'Cancel upload';\n",
              "  const cancelPromise = new Promise((resolve) => {\n",
              "    cancel.onclick = () => {\n",
              "      resolve(null);\n",
              "    };\n",
              "  });\n",
              "\n",
              "  // Wait for the user to pick the files.\n",
              "  const files = yield {\n",
              "    promise: Promise.race([pickedPromise, cancelPromise]),\n",
              "    response: {\n",
              "      action: 'starting',\n",
              "    }\n",
              "  };\n",
              "\n",
              "  cancel.remove();\n",
              "\n",
              "  // Disable the input element since further picks are not allowed.\n",
              "  inputElement.disabled = true;\n",
              "\n",
              "  if (!files) {\n",
              "    return {\n",
              "      response: {\n",
              "        action: 'complete',\n",
              "      }\n",
              "    };\n",
              "  }\n",
              "\n",
              "  for (const file of files) {\n",
              "    const li = document.createElement('li');\n",
              "    li.append(span(file.name, {fontWeight: 'bold'}));\n",
              "    li.append(span(\n",
              "        `(${file.type || 'n/a'}) - ${file.size} bytes, ` +\n",
              "        `last modified: ${\n",
              "            file.lastModifiedDate ? file.lastModifiedDate.toLocaleDateString() :\n",
              "                                    'n/a'} - `));\n",
              "    const percent = span('0% done');\n",
              "    li.appendChild(percent);\n",
              "\n",
              "    outputElement.appendChild(li);\n",
              "\n",
              "    const fileDataPromise = new Promise((resolve) => {\n",
              "      const reader = new FileReader();\n",
              "      reader.onload = (e) => {\n",
              "        resolve(e.target.result);\n",
              "      };\n",
              "      reader.readAsArrayBuffer(file);\n",
              "    });\n",
              "    // Wait for the data to be ready.\n",
              "    let fileData = yield {\n",
              "      promise: fileDataPromise,\n",
              "      response: {\n",
              "        action: 'continue',\n",
              "      }\n",
              "    };\n",
              "\n",
              "    // Use a chunked sending to avoid message size limits. See b/62115660.\n",
              "    let position = 0;\n",
              "    do {\n",
              "      const length = Math.min(fileData.byteLength - position, MAX_PAYLOAD_SIZE);\n",
              "      const chunk = new Uint8Array(fileData, position, length);\n",
              "      position += length;\n",
              "\n",
              "      const base64 = btoa(String.fromCharCode.apply(null, chunk));\n",
              "      yield {\n",
              "        response: {\n",
              "          action: 'append',\n",
              "          file: file.name,\n",
              "          data: base64,\n",
              "        },\n",
              "      };\n",
              "\n",
              "      let percentDone = fileData.byteLength === 0 ?\n",
              "          100 :\n",
              "          Math.round((position / fileData.byteLength) * 100);\n",
              "      percent.textContent = `${percentDone}% done`;\n",
              "\n",
              "    } while (position < fileData.byteLength);\n",
              "  }\n",
              "\n",
              "  // All done.\n",
              "  yield {\n",
              "    response: {\n",
              "      action: 'complete',\n",
              "    }\n",
              "  };\n",
              "}\n",
              "\n",
              "scope.google = scope.google || {};\n",
              "scope.google.colab = scope.google.colab || {};\n",
              "scope.google.colab._files = {\n",
              "  _uploadFiles,\n",
              "  _uploadFilesContinue,\n",
              "};\n",
              "})(self);\n",
              "</script> "
            ]
          },
          "metadata": {}
        },
        {
          "output_type": "stream",
          "name": "stdout",
          "text": [
            "Saving kaggle.json to kaggle.json\n"
          ]
        },
        {
          "output_type": "execute_result",
          "data": {
            "text/plain": [
              "{'kaggle.json': b'{\"username\":\"abhinomega135\",\"key\":\"5e3e1bff26d3c27d9e8bdc2cfed82f7c\"}'}"
            ]
          },
          "metadata": {},
          "execution_count": 1
        }
      ]
    },
    {
      "cell_type": "markdown",
      "source": [
        "## Series of commands to set-up for download"
      ],
      "metadata": {
        "id": "ehIG_yqzb4U0"
      }
    },
    {
      "cell_type": "code",
      "source": [
        "!ls -lha kaggle.json\n",
        "!pip install -q kaggle # installing the kaggle package\n",
        "!mkdir -p ~/.kaggle # creating .kaggle folder where the key should be placed\n",
        "!cp kaggle.json ~/.kaggle/ # move the key to the folder\n",
        "!pwd # checking the present working directory"
      ],
      "metadata": {
        "id": "MedmFckCcDmb",
        "outputId": "8e362b00-61fa-40b2-aa4b-8402b31d283d",
        "colab": {
          "base_uri": "https://localhost:8080/"
        }
      },
      "execution_count": 2,
      "outputs": [
        {
          "output_type": "stream",
          "name": "stdout",
          "text": [
            "-rw-r--r-- 1 root root 69 Aug  9 04:38 kaggle.json\n",
            "/content\n"
          ]
        }
      ]
    },
    {
      "cell_type": "markdown",
      "source": [
        "## giving rw access (if 401-nathorized)"
      ],
      "metadata": {
        "id": "eMlDWbllcUge"
      }
    },
    {
      "cell_type": "code",
      "source": [
        "!chmod 600 ~/.kaggle/kaggle.json"
      ],
      "metadata": {
        "id": "2iHT-9HpcYyP"
      },
      "execution_count": 3,
      "outputs": []
    },
    {
      "cell_type": "markdown",
      "source": [
        "## Sanity check if able to access kaggle"
      ],
      "metadata": {
        "id": "00wVPnKMciRY"
      }
    },
    {
      "cell_type": "code",
      "source": [
        "!kaggle datasets list"
      ],
      "metadata": {
        "id": "Ohyb6TqDcjS1",
        "outputId": "47df4a69-e9e6-400a-c3dd-141e6f93b667",
        "colab": {
          "base_uri": "https://localhost:8080/"
        }
      },
      "execution_count": 4,
      "outputs": [
        {
          "output_type": "stream",
          "name": "stdout",
          "text": [
            "ref                                                        title                                               size  lastUpdated          downloadCount  voteCount  usabilityRating  \n",
            "---------------------------------------------------------  -------------------------------------------------  -----  -------------------  -------------  ---------  ---------------  \n",
            "myrios/cost-of-living-index-by-country-by-number-2024      Cost of Living Index by Country                      3KB  2024-07-19 06:25:42           2618         37  1.0              \n",
            "waqi786/cats-dataset                                       🐾 Cats Dataset                                       6KB  2024-07-31 06:12:49           2195         45  1.0              \n",
            "muhammadehsan000/olympic-historical-dataset-1896-2020      Olympic Historical Dataset (1896 - 2022)            27MB  2024-08-06 16:46:08           1561         29  1.0              \n",
            "muhammadehsan000/credit-card-transaction-records-dataset   Credit Card Transaction Records Dataset            145MB  2024-08-01 13:34:23            656         23  1.0              \n",
            "datazng/shopping-mall-customer-data-segmentation-analysis  Shopping Mall Customer Data Segmentation Analysis    6MB  2024-08-04 20:36:31           1231         35  0.88235295       \n",
            "abhayayare/employee-data-simulation-it-industry            Employee Data Simulation: IT Industry                4KB  2024-07-21 15:26:17           2349         37  1.0              \n",
            "ihelon/coffee-sales                                        Coffee Sales                                        13KB  2024-08-01 07:55:34          10297        157  1.0              \n",
            "mbsoroush/mobile-price-range                               Mobile Price Range                                  71KB  2024-07-29 08:05:56           1196         28  1.0              \n",
            "patricklford/global-ev-sales-2010-2024                     Global EV Sales: 2010-2024                          83KB  2024-07-19 13:40:22           2938         39  1.0              \n",
            "anthonytherrien/depression-dataset                         Depression Dataset                                   9MB  2024-07-19 20:42:08           1565         29  1.0              \n",
            "waqi786/mobile-sales-dataset                               Mobile Sales Dataset 📱                              58KB  2024-07-26 11:03:16           2121         35  1.0              \n",
            "rabieelkharoua/students-performance-dataset                📚 Students Performance Dataset 📚                    66KB  2024-06-12 23:09:20          28534        555  1.0              \n",
            "ashishjangra27/doodle-dataset                              Doodle Dataset                                       5GB  2024-08-04 04:27:10            457         23  1.0              \n",
            "nelgiriyewithana/most-streamed-spotify-songs-2024          Most Streamed Spotify Songs 2024                   496KB  2024-06-15 18:50:51          20431        388  1.0              \n",
            "henriquerezermosqur/formula-one-data-2000-2024             Formula One Data (2000 - 2024)                       2MB  2024-07-29 16:31:32            651         22  0.88235295       \n",
            "waqi786/top-games-dataset                                  Top Games Dataset 🎮📊                                77KB  2024-08-02 11:27:16           1487         25  1.0              \n",
            "priyamchoksi/credit-card-transactions-dataset              Credit Card Transactions Dataset                   145MB  2024-07-23 00:31:47           1645         33  1.0              \n",
            "jenilhareshbhaighori/smartphone-data-analysis-using        SmartPhone  Data analysis using                    785KB  2024-07-31 06:14:47            808         24  0.9411765        \n",
            "abdulmalik1518/football-players-datasets-2015-2024         Football Players Datasets 2015 - 2024               13KB  2024-07-29 16:11:57            616         23  1.0              \n",
            "waqi786/worldwide-coffee-habits-dataset                    Worldwide Coffee Habits Dataset ☕                  320KB  2024-07-27 07:38:26           1054         21  1.0              \n"
          ]
        }
      ]
    },
    {
      "cell_type": "markdown",
      "source": [
        "## Download data command"
      ],
      "metadata": {
        "id": "hWGPekDZdNHr"
      }
    },
    {
      "cell_type": "code",
      "source": [
        "!kaggle datasets download -d nelgiriyewithana/most-streamed-spotify-songs-2024"
      ],
      "metadata": {
        "id": "GuTMnWQ-clzy",
        "outputId": "f2c3ce65-d252-4b77-b85d-446e0711fff4",
        "colab": {
          "base_uri": "https://localhost:8080/"
        }
      },
      "execution_count": 5,
      "outputs": [
        {
          "output_type": "stream",
          "name": "stdout",
          "text": [
            "Dataset URL: https://www.kaggle.com/datasets/nelgiriyewithana/most-streamed-spotify-songs-2024\n",
            "License(s): CC-BY-SA-4.0\n",
            "Downloading most-streamed-spotify-songs-2024.zip to /content\n",
            "  0% 0.00/496k [00:00<?, ?B/s]\n",
            "100% 496k/496k [00:00<00:00, 122MB/s]\n"
          ]
        }
      ]
    },
    {
      "cell_type": "markdown",
      "source": [
        "## Unzip Dataset"
      ],
      "metadata": {
        "id": "efaHKvOndlWp"
      }
    },
    {
      "cell_type": "code",
      "source": [
        "! unzip most-streamed-spotify-songs-2024.zip"
      ],
      "metadata": {
        "id": "Sxq_Sb8gdVFt",
        "outputId": "a6f0cb21-0295-4e42-b7c1-e5bcb3976b63",
        "colab": {
          "base_uri": "https://localhost:8080/"
        }
      },
      "execution_count": 6,
      "outputs": [
        {
          "output_type": "stream",
          "name": "stdout",
          "text": [
            "Archive:  most-streamed-spotify-songs-2024.zip\n",
            "  inflating: Most Streamed Spotify Songs 2024.csv  \n"
          ]
        }
      ]
    },
    {
      "cell_type": "code",
      "source": [],
      "metadata": {
        "id": "YfXnNJIHdpFI"
      },
      "execution_count": null,
      "outputs": []
    }
  ]
}